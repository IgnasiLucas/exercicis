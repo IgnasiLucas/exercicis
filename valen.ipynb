{
 "cells": [
  {
   "cell_type": "markdown",
   "id": "sacred-islam",
   "metadata": {},
   "source": [
    "## Instruccions\n",
    "\n",
    "Edita, elabora i executa els comandaments i respon a les preguntes en aquest mateix document. Però **atenció!** l'has de descargar (en format `.ipynb`) per poder lliurar-lo a través de l'aula virtual."
   ]
  },
  {
   "cell_type": "markdown",
   "id": "buried-pierce",
   "metadata": {},
   "source": [
    "## Problema 1\n",
    "Un centre de seqüenciació t'envia alguns fitxers de seqüencies curtes, que corresponen a nou mostres, de tres espècies diferents, identificades amb els codis *sot*, *cav* i *rei*. Els arxius *fastq* estan disponibles en la carpeta `data`, junt amb altres fitxers en formats alternatius. Primer, hauràs d'identificar els fitxers que contenen les seqüències curtes en format *fastq*. A continuació, tria entre els tres blocs de codi següents quin necessites adaptar per analitzar la qualitat de les seqüències. Per últim, corregeix-lo si conté errors i adapta'l per produir l'anàlisi de qualitat de les seqüències curtes d'aquells fitxers."
   ]
  },
  {
   "cell_type": "code",
   "execution_count": null,
   "id": "cardiovascular-surprise",
   "metadata": {},
   "outputs": [],
   "source": [
    "## Opción 1\n",
    "\n",
    "suppressMessages(library('ShortRead'))\n",
    "ArchivosFastq <- dir('data', pattern = '*.at')\n",
    "Calidades <- lapply(ArchivosFastq, function(x) {\n",
    "    lecturas <- readFastq('data', pattern = x)\n",
    "    return(width(lecturas))\n",
    "})\n",
    "plot(c(0,140), c(0, 0.04), type='n', xlab='Quality?', ylab='Frequency')\n",
    "x <- 1\n",
    "for (i in Calidades) {\n",
    "    lines(density(i), col=x)\n",
    "    x <- x + 1\n",
    "}"
   ]
  },
  {
   "cell_type": "code",
   "execution_count": null,
   "id": "solid-patient",
   "metadata": {},
   "outputs": [],
   "source": [
    "## Opción 2\n",
    "\n",
    "suppressMessages(library('ShortRead'))\n",
    "ArrosAlForn <- qa('data', type = 'fastq', pattern = '*.fastq',\n",
    "                  BPPARAM = BiocParallel::registered()[3])\n",
    "report(QualityReport, dest = 'InformeQualitat.html')"
   ]
  },
  {
   "cell_type": "code",
   "execution_count": null,
   "id": "naked-holder",
   "metadata": {},
   "outputs": [],
   "source": [
    "## Opción 3\n",
    "\n",
    "suppressMessages(library('ShortRead'))\n",
    "archivos <- paste0(rep(c('cav','sot','rei'), each = 3), rep(1:3, 3), '.fastq')\n",
    "archivos\n",
    "calidadMedia <- numeric(length = 9)\n",
    "longitudMedia <- numeric(length = 9)\n",
    "for (i in 1:9) {\n",
    "    datos <- readFastq('data', pattern = archivos[i])\n",
    "    calidadMedia[i] <- mean(as(quality(datos), 'numeric'))\n",
    "    longitudMedia[i] <- mean(width(datos))\n",
    "}\n",
    "data.frame(archivos, calidadMedia, longitudMedia)"
   ]
  },
  {
   "cell_type": "markdown",
   "id": "varying-namibia",
   "metadata": {},
   "source": [
    "Contesta les preguntes següents:\n",
    "\n",
    "1. Has esbrinat quina extensió correspon al format *fastq* en la carpeta `data`?\n",
    "2. Per a què serveix la funció `width()`?\n",
    "2. Fes un breu resum de les conclusions més importants de l'anàlisi de qualitat, indicant si creus que la qualitat és suficient i si la qualitat és homogènia entre les mostres.\n",
    "3. Entre les nou mostres, en trobes alguna que destaque en algun aspecte de la resta?\n",
    "4. Pots indicar quina és la longitud mitjana de les lectures en cada arxiu?\n",
    "5. Quina seria la probabilitat de què una \"C\" en certa posició d'una lectura curta en realitat no fóra una citosina en la molècula de la qual procedeix eixa lectura, si la seua qualitat és \"J\", és a dir 41?"
   ]
  },
  {
   "cell_type": "markdown",
   "id": "aggressive-infection",
   "metadata": {},
   "source": [
    "## Problema 2\n",
    "\n",
    "A continuació pots executar un exemple de consulta de la base de dades *European Nucleotide Archive*. Aquest exemple, a més de descarregar els resultats de la consulta en un arxiu de text, els llig en R i obté alguns estadístics. Comprova que funciona i familiaritzat amb el codi abans de respondre a les preguntes següents i resoldre el problema plantejat. En la pàgina [taxonomía del NCBI](https://www.ncbi.nlm.nih.gov/taxonomy) trobaràs els codis **taxid** de qualsevol espècie o grup taxonòmic. Per exemple:\n",
    "\n",
    " |Espècie        |    taxid|\n",
    " |-------------- | --------|\n",
    " |*Homo sapiens* |     9606|\n",
    " |*Mus musculus* |    10090|\n",
    " |Virus          |    10239|\n",
    " |Bacteris       |        2|"
   ]
  },
  {
   "cell_type": "code",
   "execution_count": null,
   "id": "early-cover",
   "metadata": {},
   "outputs": [],
   "source": [
    "library(curl)\n",
    "portal   <- 'https://www.ebi.ac.uk/ena/portal/api/'\n",
    "endpoint <- 'search?'\n",
    "result   <- 'result=read_run'\n",
    "query    <- paste0('&query=',\n",
    "                   URLencode('tax_tree(2) AND first_public>=2021-05-01',\n",
    "                             reserved=TRUE))\n",
    "fields   <- '&fields=scientific_name,read_count,base_count,library_source,center_name,country'\n",
    "limit    <- '&limit=0'\n",
    "\n",
    "URL <- paste0(portal, endpoint, result, query, fields, limit, sep='', collapse='')\n",
    "curl_download(URL, destfile = 'descarga1.tsv')\n",
    "resultados <- read.table('descarga1.tsv', header = TRUE, quote = \"\\\"\",\n",
    "                         sep = '\\t', na.string = '', stringsAsFactors = FALSE)\n",
    "head(resultados)\n",
    "dim(resultados)\n",
    "sum(resultados$read_count, na.rm = TRUE)\n",
    "sum(resultados$base_count, na.rm = TRUE)\n",
    "resultados$genero <- sapply(resultados$scientific_name, function(x) strsplit(x, ' ')[[1]][1])\n",
    "head(resultados)\n",
    "sort(table(resultados$genero), decreasing = TRUE)\n",
    "resultados$country <- sapply(resultados$country, function(x) strsplit(x, ':')[[1]][1])\n",
    "sort(table(resultados$country), decreasing = TRUE)\n",
    "sort(table(resultados[resultados$country == 'Russia', 'scientific_name']), decreasing = TRUE)\n",
    "sort(table(resultados[resultados$country == 'Ireland', 'center_name']), decreasing = TRUE)"
   ]
  },
  {
   "cell_type": "markdown",
   "id": "removed-juvenile",
   "metadata": {},
   "source": [
    "#### Preguntes sobre l'anàlisi d'exemple anterior\n",
    "\n",
    "1. Quin és el nombre de registres d'experiments de seqüenciació amb lectures curtes publicats en ENA durant aquest mes de maig?\n",
    "\n",
    "2. Quin és el gènere de bacteris més seqüenciat mitjançant lectures curtes en el mes de maig del present any?\n",
    "\n",
    "3. Quines espècies de bacteris s'han dedicat a seqüenciar en Rússia durant el mes de maig? I en Espanya?\n",
    "\n",
    "4. Quants centres d'investigació espanyols diferents han enviat seqüències curtes de bacteris a la base de dades ENA durant este mes? I irlandesos? \n",
    "\n",
    "\n",
    "####  Problema\n",
    "Elabora ara la teua pròpia consulta, amb un bloc de codi nou, per investigar els estudis de seqüenciació amb lectures curtes en el ratolí (*Mus musculus*, taxid 10090) durant el mes de maig del present any. Redacta un xicotet resum amb les teues conclusions. Hauries d'incloure informació sobre: els tipus de teixits o línies cel·lulars més seqüenciats, els tipus d'estudi (*library_source*), el balanç entre ratolins mascle i femella seqüenciats, així com qualsevol altre aspecte que et cride l'atenció. Si prefereixes realitzar l'anàlisi en [la web de ENA](https://www.ebi.ac.uk/ena/browser/home), o bé en un full de càlcul després de descarregar-ne els resultats, també podràs obtenir la nota màxima d'aquest apartat. Però procura no demorar-te més de 20 minuts ací.\n"
   ]
  },
  {
   "cell_type": "markdown",
   "id": "swedish-diagram",
   "metadata": {},
   "source": [
    "## Problema 3\n",
    "\n",
    "Per poder realitzar aquest problema, necessites haver instal·lat els programes blast del NCBI. Per fer-ho, només cal executar el codi següent. Pot tardar uns segons."
   ]
  },
  {
   "cell_type": "code",
   "execution_count": null,
   "id": "restricted-cradle",
   "metadata": {},
   "outputs": [],
   "source": [
    "system2(command = './preparar_ambiente.sh', wait = TRUE)"
   ]
  },
  {
   "cell_type": "markdown",
   "id": "black-handle",
   "metadata": {},
   "source": [
    "Dins la carpeta `data` tens un arxiu fasta anomenat `a.fa`. L'objectiu és realitzar algunes cerques de blast amb eixa *query*. Pots basar-te en els comandaments del bloc següent, sempre que pugues corregir-ne els errors.\n",
    "\n",
    "1. Busca la proteïna **a** en la base de dades *swissprot* (instal·lada en la carpeta actual) mitjançant **blastp**, utilitzant un llindar de valor E de 0.001. Pren nota del nombre de resultats obtinguts.\n",
    "3. Coneixent la definició del \"valor E\" i a la vista dels resultats de la cerca, sabries dir quants dels resultats obtinguts esperes que siguen casuals (és a dir, que igualment podrien haver-se produït a l'atzar)?\n",
    "4. Realitza ara una cerca amb **psiblast**, en la mateixa base de dades i amb la mateixa proteïna de partida. Quantes iteracions són necessàries per abastar la convergència si fas servir un llindar d'inclusió (`-inclusion_ethresh`) de 0.001?\n",
    "5. Compara el nombre de resultats obtinguts amb **psiblast** amb el nombre de resultats obtinguts abans amb **blastp** i explica a què és deguda la diferència."
   ]
  },
  {
   "cell_type": "code",
   "execution_count": null,
   "id": "featured-comparative",
   "metadata": {},
   "outputs": [],
   "source": [
    "system2(command = 'blastn',\n",
    "        args = c('-db', 'swissprot',\n",
    "                 '-query', 'data/b.fa',\n",
    "                 '-out', 'psi1.txt',\n",
    "                 '-outfmt', '\"7 qaccver saccver pident length qstart qend sstart send\n",
    "   evalue ssciname sblastname\"',\n",
    "                 '-evalue', '0.005',\n",
    "                 '-inclusion_ethresh', '0.002',\n",
    "                 '-num_iterations', '0'),\n",
    "       stdout=TRUE)"
   ]
  },
  {
   "cell_type": "code",
   "execution_count": null,
   "id": "satisfied-gardening",
   "metadata": {},
   "outputs": [],
   "source": []
  }
 ],
 "metadata": {
  "kernelspec": {
   "display_name": "R",
   "language": "R",
   "name": "ir"
  },
  "language_info": {
   "codemirror_mode": "r",
   "file_extension": ".r",
   "mimetype": "text/x-r-source",
   "name": "R",
   "pygments_lexer": "r",
   "version": "3.6.3"
  }
 },
 "nbformat": 4,
 "nbformat_minor": 5
}
