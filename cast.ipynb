{
 "cells": [
  {
   "cell_type": "markdown",
   "id": "sacred-islam",
   "metadata": {},
   "source": [
    "## Instrucciones\n",
    "\n",
    "Edita, elabora y ejecuta los comandos y responde a las preguntas en este mismo documento. Pero **¡atención!** debes descargarlo (en formato `.ipynb`) para poder entregarlo a través del aula virtual."
   ]
  },
  {
   "cell_type": "markdown",
   "id": "buried-pierce",
   "metadata": {},
   "source": [
    "## Problema 1\n",
    "En la carpeta `data` hay cuatro ficheros en formato FASTQ, con secuencias de cuatro muestras diferentes de cerbero común (*Canis cerberus*). El objetivo es: primero realizar un análisis de la calidad de las secuencias y después mapearlas sobre el genoma de referencia, `data/cerber.fa`. Pero los bloques de código siguientes están desordenados y contienen errores. Corrige los errores y ejecútalos en el orden correcto para poder responder las preguntas siguietes."
   ]
  },
  {
   "cell_type": "code",
   "execution_count": null,
   "id": "fbd3b9b4",
   "metadata": {},
   "outputs": [],
   "source": [
    "# BLOQUE METBREWER\n",
    "\n",
    "library('MetBrewer')\n",
    "system2(command = 'cut', args = c('-f', '4,5', 'BRZ026.sam'), stdout = 'MapQualBRZ026.txt')\n",
    "system2(command = 'cut', args = c('-f', '4,5', 'BRZ031.sam'), stdout = 'MapQualBRZ031.txt')\n",
    "system2(command = 'cut', args = c('-f', '4,5', 'LAN048.sam'), stdout = 'MapQualLAN048.txt')\n",
    "system2(command = 'cut', args = c('-f', '4,5', 'LAN098.sam'), stdout = 'MapQualLAN098.txt')\n",
    "mapq.BRZ026 <- read.table('MapQualBRZ026.txt', col.names = c('pos','mapq'))\n",
    "mapq.BRZ031 <- read.table('MapQualBRZ031.txt', col.names = c('pos','mapq'))\n",
    "mapq.LAN048 <- read.table('MapQualLAN048.txt', col.names = c('pos','mapq')\n",
    "mapq.LAN098 <- read.table('MapQualLAN098.txt' col.names = c('pos','mapq'))\n",
    "colors = met.brewer(name = 'Egypt', n = 4)\n",
    "plot(density(mapq.BRZ031$mapq),  lwd = 2, col = colors[1], xlab = 'Calidad del mapeo', ylab = 'Densidad', main = '')\n",
    "lines(density(mapq.BRZ026$mapq), lwd = 2, col = colors[2])\n",
    "lines(density(mapq.LAN048$mapq), lwd = 2, col = colors[3])\n",
    "lines(density(mapq.LAN098$mapq), lwd = 2, col = colors[4])\n",
    "legend(10, y=0.08, legend = c('BRZ031','BRZ026','LAN048','LAN098'), col = colors, lwd = 2)"
   ]
  },
  {
   "cell_type": "code",
   "execution_count": null,
   "id": "cardiovascular-surprise",
   "metadata": {},
   "source": [
    "# BLOQUE BOWTIE\n",
    "BRZ026.out <- bowtie2(bt2Index = 'index/cerber',\n",
    "                     samOutput = 'BRZ026.sam',\n",
    "                          seq1 = 'data/BRZ026.fq'\n",
    "                     overwrite = TRUE,\n",
    "                     '--no-unal', '--no-head')\n",
    "BRZ026.out\n",
    "\n",
    "BRZ031.out <- bowtie2(bt2Index = 'index/cerber',\n",
    "                     samOutput = 'BRZ031.sam',\n",
    "                          seq1 = 'data/BRZ031.fa',\n",
    "                     overwrite = TRUE,\n",
    "                     '--no-unal', '--no-head')\n",
    "BRZ031.out\n",
    "\n",
    "LAN048.out <  bowtie2(bt2Index = 'index/cerber',\n",
    "                     samOutput = 'LAN048.sam',\n",
    "                          seq1 = 'data/LAN048.fq',\n",
    "                     overwrite = TRUE,\n",
    "                     '--no-unal', '--no-head')\n",
    "LAN048.out\n",
    "\n",
    "LAN098.out <- bowtie2(bt2Index = 'index/cerber',\n",
    "                     samOutput = 'LAN098.sam',\n",
    "                          seq1 = 'data/LAN098.fq',\n",
    "                     overwrite = TRUE,\n",
    "                     '--no-unal', '--no-head')\n",
    "LAN098.out"
   ]
  },
  {
   "cell_type": "code",
   "execution_count": null,
   "id": "cardiovascular-surprise",
   "metadata": {},
   "outputs": [],
   "source": [
    "# BLOQUE GGPLOT2\n",
    "\n",
    "library(ggplot2)\n",
    "suppressMessages(library('ShortRead'))\n",
    "ResumenCalidad <- qa('data', type = 'fastq', pattern = '*.fa')\n",
    "ResumenCalidad\n",
    "head(ResumenCalidad[['baseCalls']])\n",
    "report(ResumenCalidad, dest = 'ResumenCalidad.html')\n",
    "ggplot(data = ResumenCalidad[['readQualityScore']],\n",
    "       mapping = aes(x = quality, y = density)) +\n",
    "   geom_line() +\n",
    "   facet_wrap(~lane)"
   ]
  },
  {
   "cell_type": "code",
   "execution_count": null,
   "id": "096e45e6",
   "metadata": {},
   "outputs": [],
   "source": [
    "# BLOQUE RBOWTIE2\n",
    "\n",
    "library('Rbowtie2')\n",
    "dir.create('index')\n",
    "bowtie2_build(references = 'data/cerber.fq',\n",
    "              bt2Index   = 'index/cerbero',\n",
    "              '--quiet', overwrite = TRUE)"
   ]
  },
  {
   "cell_type": "markdown",
   "id": "varying-namibia",
   "metadata": {},
   "source": [
    "Contesta las preguntas siguientes:\n",
    "\n",
    "1. Indica en qué orden crees que deben ejecutarse los pasos.\n",
    "2. ¿Cuántas lecturas cortas hay en cada archivo?\n",
    "3. ¿Crees que las lecturas cortas son emparejadas (*paired ends*) o no?\n",
    "4. ¿Qué longitudes tienen las lecturas?\n",
    "2. Se sospecha que una de las tres muestras no pertenece a la misma especie que las otras. ¿Cuál dirías que és?"
   ]
  },
  {
   "cell_type": "markdown",
   "id": "aggressive-infection",
   "metadata": {},
   "source": [
    "## Problema 2\n",
    "\n"
   ]
  },
  {
   "cell_type": "code",
   "execution_count": null,
   "id": "early-cover",
   "metadata": {},
   "outputs": [],
   "source": [
    "## Bloque 2. Alineamiento\n",
    "\n",
    "suppressMessages(library('DECIPHER'))\n",
    "Secuencias <- readDNAStringSet('homolegs.fasta')\n",
    "Alineadas  <- AlignSeqs(Secuencias)\n",
    "BrowseSeqs(Alineadas, htmlFile = 'Alineamiento.html', openURL = FALSE)"
   ]
  },
  {
   "cell_type": "markdown",
   "id": "removed-juvenile",
   "metadata": {},
   "source": [
    "1. ¿Qué clase de objeto es `Secuencias`, en el bloque anterior?\n",
    "2. ¿Qué opinión te merece el alineamiento, y por qué?\n",
    "3. Por defecto, `AlignSeqs()` usa una penalización por apertura de *gaps* de entre -18 y -16, y una penalización por alargamiento del *gap* de entre -2 y -1. Comprueba y describe el efecto de invertir esos valores. Es decir, el efecto de asignar el valor -2 (por ejemplo) a la penalización por apertura de *gaps* y el valor de -16 a la penalización por elongamiento del gap."
   ]
  },
  {
   "cell_type": "markdown",
   "id": "swedish-diagram",
   "metadata": {},
   "source": [
    "## Problema 3\n",
    "\n",
    "El archivo `results.txt` contiene los resultados de una consulta realizada con el paquete `hmmer`. Concretamente, se ha comprobado qué dominios de la base de datos Pfam se encuentran presente en cada una de las proteínas del *Mycobacterium virus Che8*. El código siguiente te permite cargar la tabla de resultados en la sesión de R. Aunque para contestar algunas de las preguntas siguientes basta con abrir el archivo `results.txt` con el editor de texto, o con el comando `less -S results.txt` desde la terminal Bash."
   ]
  },
  {
   "cell_type": "code",
   "execution_count": null,
   "id": "restricted-cradle",
   "metadata": {},
   "outputs": [],
   "source": [
    "## Bloque 3. Resultados de hmmer\n",
    "\n",
    "library(rhmmer)\n",
    "resultados <- read_domtblout('results.txt')\n",
    "resultados\n",
    "names(resultados)"
   ]
  },
  {
   "cell_type": "markdown",
   "id": "black-handle",
   "metadata": {},
   "source": [
    "1. El paquete `hmmer` incluye varios programas: *hmmbuild*, *hmmsearch*, *hmmfetch*...  ¿Cuál de esos programas crees que ha sido utilizado para generar los resultados guardados en el archivo `results.txt`?\n",
    "2. A simple vista, parece que las dos primeras líneas de la tabla de resultados son idénticas. ¿Por qué se muestra dos veces que el dominio *Phage_integrase* està presente en la proteína Q855G4?\n",
    "3. El número de proteínas en las que se han buscado dominios conocidos es 112. Usando el comando `length(unique(resultados$query_name))` vemos que sólo se han encontrado dominios proteicos conocidos en 57 de esas proteínas. ¿Sabrías decir cuántos dominios diferentes se han encontrado en el proteoma del *Mycobacterium virus Che8*?\n",
    "4. Los resultados de la búsqueda de dominios incluyen hasta tres valores E diferentes: uno para la secuencia completa de la proteína donde se ha encontrado algún dominio, y dos valores E para el dominio encontrado. Están descritos en las páginas 47 y 48 del documento **HMMER_Userguide.pdf**. ¿Te parecen fiables todos los resultados? ¿Sabrías decir cuántos de los dominios encontrados tiene un valor E condicional (`domain_cevalue`) menor de 1?"
   ]
  },
  {
   "cell_type": "code",
   "execution_count": null,
   "id": "sharing-trouble",
   "metadata": {},
   "outputs": [],
   "source": []
  }
 ],
 "metadata": {
  "kernelspec": {
   "display_name": "R",
   "language": "R",
   "name": "ir"
  },
  "language_info": {
   "codemirror_mode": "r",
   "file_extension": ".r",
   "mimetype": "text/x-r-source",
   "name": "R",
   "pygments_lexer": "r",
   "version": "4.2.0"
  }
 },
 "nbformat": 4,
 "nbformat_minor": 5
}
