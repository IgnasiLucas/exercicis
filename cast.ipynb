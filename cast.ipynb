{
 "cells": [
  {
   "cell_type": "markdown",
   "id": "micro-orleans",
   "metadata": {},
   "source": [
    "## Instrucciones\n"
   ]
  },
  {
   "cell_type": "markdown",
   "id": "sorted-trinity",
   "metadata": {},
   "source": [
    "## Problema 1\n",
    "Un centro de secuenciación te envía algunos ficheros de secuencias cortas, que corresponden a nueve muestras, de tres especies diferentes, identificadas con los códigos *sot*, *cav* y *rei*. Los archivos *fastq* están disponibles en la carpeta `data`, junto con otros ficheros en formatos alternativos. Primero, deberás identificar los ficheros que contienen las secuencias cortas en formato *fastq*. A continuación, escoje entre los tres bloques de código siguientes el que necesitas adaptar para analizar la calidad de las secuencias. Por último, corrígelo si contiene errores y adáptalo para que produzca el análisis de calidad de las secuencias cortas de esos ficheros."
   ]
  },
  {
   "cell_type": "code",
   "execution_count": null,
   "id": "authorized-nickname",
   "metadata": {},
   "outputs": [],
   "source": [
    "## Opción 1\n",
    "\n",
    "#suppressMessages(library('ShortRead'))\n",
    "ArchivosFastq <- dir('data', pattern = '*.at')\n",
    "Calidades <- lapply(ArchivosFastq, function(x) {\n",
    "    lecturas <- readFastq('data', pattern = x)\n",
    "    return(width(lecturas))\n",
    "})\n",
    "plot(c(0,140), c(0, 0.04), type='n', xlab='Quality?', ylab='Frequency')\n",
    "x <- 1\n",
    "for (i in Calidades) {\n",
    "    lines(density(i), col=x)\n",
    "    x <- x + 1\n",
    "}"
   ]
  },
  {
   "cell_type": "code",
   "execution_count": null,
   "id": "wanted-major",
   "metadata": {},
   "outputs": [],
   "source": [
    "## Opción 2\n",
    "\n",
    "suppressMessages(library('ShortRead'))\n",
    "ArrosAlForn <- qa('data', type = 'fastq', pattern = '*.fastq')\n",
    "report(QualityReport, dest = 'InformeQualitat.html')"
   ]
  },
  {
   "cell_type": "code",
   "execution_count": null,
   "id": "flexible-oasis",
   "metadata": {},
   "outputs": [],
   "source": [
    "## Opción 3\n",
    "\n",
    "#suppressMessages(library('ShortRead'))\n",
    "archivos <- paste0(rep(c('cav','sot','rei'), each = 3), rep(1:3, 3), '.fastq')\n",
    "archivos\n",
    "calidadMedia <- numeric(length = 9)\n",
    "longitudMedia <- numeric(length = 9)\n",
    "for (i in 1:9) {\n",
    "    datos <- readFastq('data', pattern = archivos[i])\n",
    "    calidadMedia[i] <- mean(as(quality(datos), 'numeric'))\n",
    "    longitudMedia[i] <- mean(width(datos))\n",
    "}\n",
    "data.frame(archivos, calidadMedia, longitudMedia)"
   ]
  },
  {
   "cell_type": "markdown",
   "id": "brave-despite",
   "metadata": {},
   "source": [
    "Contesta las preguntas siguientes:\n",
    "\n",
    "1. ¿Has averiguado qué extensión corresponde al formato *fastq*?\n",
    "2. Haz un breve resumen de las conclusiones más importantes del análisis de calidad indicando si crees que la calidad es suficiente y si la calidad es homogénea entre las muestras.\n",
    "3. Entre las nueve muestras, ¿encuentras alguna que destaque en algún aspecto del resto?\n",
    "4. ¿Puedes indicar cuál es la longitud media de las lecturas en cada archivo?\n"
   ]
  },
  {
   "cell_type": "code",
   "execution_count": null,
   "id": "delayed-nightmare",
   "metadata": {},
   "outputs": [],
   "source": [
    "## Problema 2\n",
    "\n",
    "Base de dades.\n",
    "\n",
    "## Problema 3\n",
    "\n",
    "Alineament\n",
    "\n",
    "## Problema 4\n",
    "\n",
    "Blast"
   ]
  }
 ],
 "metadata": {
  "kernelspec": {
   "display_name": "R",
   "language": "R",
   "name": "ir"
  },
  "language_info": {
   "codemirror_mode": "r",
   "file_extension": ".r",
   "mimetype": "text/x-r-source",
   "name": "R",
   "pygments_lexer": "r",
   "version": "3.6.3"
  }
 },
 "nbformat": 4,
 "nbformat_minor": 5
}
