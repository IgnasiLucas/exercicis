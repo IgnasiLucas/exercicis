{
 "cells": [
  {
   "cell_type": "markdown",
   "id": "sacred-islam",
   "metadata": {},
   "source": [
    "## Instrucciones\n",
    "\n",
    "Ejecuta los comandos y responde a las preguntas en este mismo documento. Pero **¡atención!** debes descargarlo (en formato `.ipynb`) para poder entregarlo a través del aula virtual. Es recomendable descargar de cuando en cuando versiones parciales, para evitar la pérdida eventual de todo el trabajo si la sesión se desconecta."
   ]
  },
  {
   "cell_type": "markdown",
   "id": "buried-pierce",
   "metadata": {},
   "source": [
    "## Problema 1\n",
    "A continuación hay cuatro bloques de código. Deberían funcionar sin necesidad de corregir nada. Cada uno realiza una búsqueda diferente en la [*European Nucleotide Archive* (ENA)](https://www.ebi.ac.uk/ena/browser/home). Pero todos envían el resultado al mismo archivo de salida. Usa el espacio reservado en cada bloque para explicar qué hace el código y cambia los nombres de los archivos que guardan los resultados para que sean específicos de cada búsqueda, descriptivos y simples."
   ]
  },
  {
   "cell_type": "code",
   "execution_count": null,
   "id": "14b20eea",
   "metadata": {},
   "outputs": [],
   "source": [
    "# COMENTARIO:\n",
    "#\n",
    "#\n",
    "#\n",
    "\n",
    "library('curl')\n",
    "portal   <- 'https://www.ebi.ac.uk/ena/portal/api/'\n",
    "endpoint <- 'search?'\n",
    "result   <- 'result=assembly'\n",
    "query    <- paste0('&query=', URLencode('tax_tree(37945) AND genome_representation=\"full\"', reserved = TRUE))\n",
    "fields   <- '&fields=accession,tax_id,last_updated'\n",
    "limit    <- '&limit=0'\n",
    "URL <- paste0(portal, endpoint, result, query, fields, limit)\n",
    "URL\n",
    "curl_download(URL, destfile = 'resultado.txt')"
   ]
  },
  {
   "cell_type": "code",
   "execution_count": null,
   "id": "5a3c988c",
   "metadata": {},
   "outputs": [],
   "source": [
    "# COMENTARIO:\n",
    "#\n",
    "#\n",
    "#\n",
    "\n",
    "library('curl')\n",
    "URL <- 'https://www.ebi.ac.uk/ena/portal/api/returnFields?result=coding'\n",
    "curl_download(URL, destfile = 'resultado.txt')"
   ]
  },
  {
   "cell_type": "code",
   "execution_count": null,
   "id": "c15622b5",
   "metadata": {},
   "outputs": [],
   "source": [
    "# COMENTARIO:\n",
    "#\n",
    "#\n",
    "#\n",
    "\n",
    "library('curl')\n",
    "portal   <- 'https://www.ebi.ac.uk/ena/portal/api/'\n",
    "endpoint <- 'search?'\n",
    "result   <- 'result=coding'\n",
    "query    <- paste0('&query=', URLencode('product=\"FOXP3\"', reserved = TRUE))\n",
    "fields   <- '&fields=accession,codon_start,tax_id,scientific_name,base_count,description'\n",
    "limit    <- '&limit=0'\n",
    "URL <- paste0(portal, endpoint, result, query, fields, limit)\n",
    "URL\n",
    "curl_download(URL, destfile = 'resultado.txt')\n",
    "# Puede tardar un par de minutos..."
   ]
  },
  {
   "cell_type": "code",
   "execution_count": null,
   "id": "b0004a3a",
   "metadata": {},
   "outputs": [],
   "source": [
    "# COMENTARIO:\n",
    "#\n",
    "#\n",
    "#\n",
    "\n",
    "library('curl')\n",
    "portal   <- 'https://www.ebi.ac.uk/ena/browser/api/'\n",
    "endpoint <- 'fasta/'\n",
    "query    <- 'AAQ82647,ABN79272,ABQ15210,ACQ44666,ACT80310,ADL27444,AGT50479,AIC51352,AKI71963,AKI71964,AKI71965,AKI71966,AKI72596,AUR44914,OWJ99387,RLQ59976'\n",
    "URL <- paste0(portal, endpoint, query)\n",
    "curl_download(URL, destfile = 'resultado.txt')"
   ]
  },
  {
   "cell_type": "markdown",
   "id": "aggressive-infection",
   "metadata": {},
   "source": [
    "## Problema 2\n",
    "\n",
    "El objetivo del bloque siguiente es obtener un buen alineamiento de las secuencias codificantes y ortólogas presentes en el archivo `data/coding.fasta`. Para cada orden o comando tienes varias alternativas. En cada paso, escoge una de las opciones. Añade el símbolo \"#\" al principio de cada línea que según tu criterio no se debería ejecutar. Puedes añadir comentarios para explicar por qué eliges los comandos que eliges."
   ]
  },
  {
   "cell_type": "code",
   "execution_count": null,
   "id": "ba72b80c",
   "metadata": {},
   "outputs": [],
   "source": [
    "# Comando 1. Escoge una opción:\n",
    "library('AssessORF')\n",
    "library('DECIPHER')\n",
    "\n",
    "# Comando 2. Esoge una opción:\n",
    "Seqs <- readDNAStringSet('data/coding.fasta')\n",
    "Seqs <- readAAStringSet('data/coding.fasta')\n",
    "\n",
    "# Comando 3. Escoge una opción:\n",
    "Seqs <- OrientNucleotides(Seqs)\n",
    "Seqs <- reverseComplement(Seqs)\n",
    "\n",
    "# Comando 4. Escoge una opción:\n",
    "Alineamiento <- AlignSeqs(Seqs)\n",
    "Alineamiento <- AlignTranslation(Seqs, type = 'AAStringSet')\n",
    "Alineamiento <- AlignTranslation(Seqs, type = 'DNAStringSet')\n",
    "\n",
    "# Comando 5. Escoge una opción:\n",
    "writeXStringSet(Alineamiento, 'alineamiento.fasta', format = 'fasta')\n",
    "writeXStringSet(Alineamiento, 'alineamiento.fastq', format = 'fastq')"
   ]
  },
  {
   "cell_type": "markdown",
   "id": "swedish-diagram",
   "metadata": {},
   "source": [
    "## Problema 3\n",
    "\n",
    "A partir de un alineamiento de ortólogos de la proteína FOXP3 humana (disponible en `data/prots.sto`) se generó un HMM. Este modelo se usó como query para buscar proteínas homólogas adicionales en el proteoma de la esponja *Amphimedon queenslandica*, usando el programa `hmmsearch`. El resultado de esta búsqueda está guardado en los archivos `Amphimedon_queenslandica.domtblout`, `Amphimedon_queenslandica.tblout` y `Amphimedon_queenslandica.out`.\n",
    "Explora estos archivos y contesta las preguntas siguientes."
   ]
  },
  {
   "cell_type": "code",
   "execution_count": null,
   "id": "eeaa9a38",
   "metadata": {},
   "outputs": [],
   "source": [
    "library('rhmmer')\n",
    "domainHits <- read_domtblout('Amphimedon_queenslandica.domtblout')\n",
    "\n",
    "# Elimino algunas columnas de la visualización, para simplificar:\n",
    "domainHits[,-c(2,5,9,15,22,23)]"
   ]
  },
  {
   "cell_type": "code",
   "execution_count": null,
   "id": "d0a006cb",
   "metadata": {},
   "outputs": [],
   "source": [
    "targetHits <- read_tblout('Amphimedon_queenslandica.tblout')\n",
    "targetHits[, -c(2,4,7,10,19)]"
   ]
  },
  {
   "cell_type": "markdown",
   "id": "94f3ffb0",
   "metadata": {},
   "source": [
    "### 3.1 ¿En cuántas proteínas del proteoma de la esponja se ha encontrado homología a las FOXP3 de vertebrados?\n",
    "\n",
    "### 3.2 En la proteína con mayor similitud, hay dos regiones de homología a las FOXP3 de vertebrados. Identifica los resíduos de inicio y final de ambos fragmentos con homología a FOXP3. ¿Se solapan?\n",
    "\n",
    "### 3.3 ¿Con qué región o regiones del HMM tienen homología esos dos fragmentos de la primera proteína de la tabla?\n",
    "\n",
    "### 3.4 El alineamiento de las FOXP3 de vertebrados era de 405 posiciones de longitud. ¿Qué región o regiones de ese alineamiento no tienen homología con ninguna proteína de la esponja?\n",
    "\n",
    "### 3.5 Al usar un HMM como query, la búsqueda de FOXP3 en el proteoma de la esponja es más sensible que si hubiéramos realizado un BLASTP. ¿Crees que podríamos haber obtenido un resultado parecido usando PSI-BLAST? Razona la respuesta."
   ]
  },
  {
   "cell_type": "code",
   "execution_count": null,
   "id": "c35fa44f",
   "metadata": {},
   "outputs": [],
   "source": []
  }
 ],
 "metadata": {
  "kernelspec": {
   "display_name": "R",
   "language": "R",
   "name": "ir"
  },
  "language_info": {
   "codemirror_mode": "r",
   "file_extension": ".r",
   "mimetype": "text/x-r-source",
   "name": "R",
   "pygments_lexer": "r",
   "version": "4.2.1"
  }
 },
 "nbformat": 4,
 "nbformat_minor": 5
}
