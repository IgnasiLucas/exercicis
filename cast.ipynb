{
 "cells": [
  {
   "cell_type": "markdown",
   "metadata": {},
   "source": [
    "## Instrucciones\n",
    "\n",
    "Edita, elabora y ejecuta los comandos y responde a las preguntas en este mismo documento. Pero **¡atención!** debes descargarlo (en formato `.ipynb`) para poder entregarlo a través del aula virtual."
   ]
  },
  {
   "cell_type": "markdown",
   "metadata": {},
   "source": [
    "## Problema 1\n",
    "Un centro de secuenciación te envía algunos ficheros de secuencias cortas, que corresponden a nueve muestras, de tres especies diferentes, identificadas con los códigos *sot*, *cav* y *rei*. Los archivos *fastq* están disponibles en la carpeta `data`, junto con otros ficheros en formatos alternativos. Primero, deberás identificar los ficheros que contienen las secuencias cortas en formato *fastq*. A continuación, escoje entre los tres bloques de código siguientes el que necesitas adaptar para analizar la calidad de las secuencias. Por último, corrígelo si contiene errores y adáptalo para que produzca el análisis de calidad de las secuencias cortas de esos ficheros."
   ]
  },
  {
   "cell_type": "code",
   "execution_count": null,
   "metadata": {},
   "outputs": [],
   "source": [
    "## Opción 1\n",
    "\n",
    "suppressMessages(library('ShortRead'))\n",
    "ArchivosFastq <- dir('data', pattern = '*.at')\n",
    "Calidades <- lapply(ArchivosFastq, function(x) {\n",
    "    lecturas <- readFastq('data', pattern = x)\n",
    "    return(width(lecturas))\n",
    "})\n",
    "plot(c(0,140), c(0, 0.04), type='n', xlab='Quality?', ylab='Frequency')\n",
    "x <- 1\n",
    "for (i in Calidades) {\n",
    "    lines(density(i), col=x)\n",
    "    x <- x + 1\n",
    "}"
   ]
  },
  {
   "cell_type": "code",
   "execution_count": null,
   "metadata": {},
   "outputs": [],
   "source": [
    "## Opción 2\n",
    "\n",
    "suppressMessages(library('ShortRead'))\n",
    "ArrosAlForn <- qa('data', type = 'fastq', pattern = '*.fastq')\n",
    "report(QualityReport, dest = 'InformeQualitat.html')"
   ]
  },
  {
   "cell_type": "code",
   "execution_count": null,
   "metadata": {},
   "outputs": [],
   "source": [
    "## Opción 3\n",
    "\n",
    "suppressMessages(library('ShortRead'))\n",
    "archivos <- paste0(rep(c('cav','sot','rei'), each = 3), rep(1:3, 3), '.fastq')\n",
    "archivos\n",
    "calidadMedia <- numeric(length = 9)\n",
    "longitudMedia <- numeric(length = 9)\n",
    "for (i in 1:9) {\n",
    "    datos <- readFastq('data', pattern = archivos[i])\n",
    "    calidadMedia[i] <- mean(as(quality(datos), 'numeric'))\n",
    "    longitudMedia[i] <- mean(width(datos))\n",
    "}\n",
    "data.frame(archivos, calidadMedia, longitudMedia)"
   ]
  },
  {
   "cell_type": "markdown",
   "metadata": {},
   "source": [
    "Contesta las preguntas siguientes:\n",
    "\n",
    "1. ¿Has averiguado qué extensión corresponde al formato *fastq* en la carpeta `data`?\n",
    "2. ¿Para qué sirve la función `width()`?\n",
    "2. Haz un breve resumen de las conclusiones más importantes del análisis de calidad indicando si crees que la calidad es suficiente y si la calidad es homogénea entre las muestras.\n",
    "3. Entre las nueve muestras, ¿encuentras alguna que destaque en algún aspecto del resto?\n",
    "4. ¿Puedes indicar cuál es la longitud media de las lecturas en cada archivo?\n",
    "5. ¿Cuál sería la probabilidad de què una \"C\" en cierta posición de una lectura corta en realidad no fuera una citosina en la molécula de la que procede esa lectura, si su calidad es de \"J\" (es decir, 41)?"
   ]
  },
  {
   "cell_type": "markdown",
   "metadata": {},
   "source": [
    "## Problema 2\n",
    "\n",
    "A continuación puedes ejecutar un ejemplo de consulta de la base de datos *European Nucleotide Archive*. Este ejemplo, además de descargar los resultados de la consulta en un archivo de texto, los lee en R y obtiene algunos estadísticos. Comprueba que funciona y familiarízate con el código antes de responder a las preguntas siguientes y resolver el problema planteado. En la página de [taxonomía del NCBI](https://www.ncbi.nlm.nih.gov/taxonomy) encontrarás los códigos **taxid** de cualquier especie o grupo taxonóico. Por ejemplo:\n",
    "\n",
    " |Especie        |    taxid|\n",
    " |-------------- | --------|\n",
    " |*Homo sapiens* |     9606|\n",
    " |*Mus musculus* |    10090|\n",
    " |Virus          |    10239|\n",
    " |Bacterias      |        2|"
   ]
  },
  {
   "cell_type": "code",
   "execution_count": null,
   "metadata": {},
   "outputs": [],
   "source": [
    "library(curl)\n",
    "portal   <- 'https://www.ebi.ac.uk/ena/portal/api/'\n",
    "endpoint <- 'search?'\n",
    "result   <- 'result=read_run'\n",
    "query    <- paste0('&query=',\n",
    "                   URLencode('tax_tree(2) AND first_public>=2021-05-01',\n",
    "                             reserved=TRUE))\n",
    "fields   <- '&fields=scientific_name,read_count,base_count,library_source,center_name,country'\n",
    "limit    <- '&limit=0'\n",
    "\n",
    "URL <- paste0(portal, endpoint, result, query, fields, limit, sep='', collapse='')\n",
    "curl_download(URL, destfile = 'descarga1.tsv')\n",
    "resultados <- read.table('descarga1.tsv', header = TRUE, quote = \"\\\"\",\n",
    "                         sep = '\\t', na.string = '', stringsAsFactors = FALSE)\n",
    "head(resultados)\n",
    "dim(resultados)\n",
    "sum(resultados$read_count, na.rm = TRUE)\n",
    "sum(resultados$base_count, na.rm = TRUE)\n",
    "resultados$genero <- sapply(resultados$scientific_name, function(x) strsplit(x, ' ')[[1]][1])\n",
    "head(resultados)\n",
    "sort(table(resultados$genero), decreasing = TRUE)\n",
    "resultados$country <- sapply(resultados$country, function(x) strsplit(x, ':')[[1]][1])\n",
    "sort(table(resultados$country), decreasing = TRUE)\n",
    "sort(table(resultados[resultados$country == 'Russia', 'scientific_name']), decreasing = TRUE)\n",
    "sort(table(resultados[resultados$country == 'Ireland', 'center_name']), decreasing = TRUE)"
   ]
  },
  {
   "cell_type": "markdown",
   "metadata": {},
   "source": [
    "#### Preguntas sobre el análisis de ejemplo anterior\n",
    "\n",
    "1. ¿Cuál es el número de registros de experimentos de secuenciación con lecturas cortas publicados en ENA durante este mes de mayo?\n",
    "\n",
    "2. ¿Cuál es el género de Bacterias más secuenciado mediante lecturas cortas en el mes de mayo del presente año?\n",
    "\n",
    "3. ¿Qué especies de bacterias se han dedicado a secuenciar en Rusia durante el mes de mayo? ¿Y en España?\n",
    "\n",
    "4. ¿Cuántos centros de investigación españoles diferentes han enviado secuencias cortas de Bacterias a la base de datos ENA durante este mes? ¿E irlandeses? \n",
    "\n",
    "\n",
    "####  Problema\n",
    "Elabora ahora tu propia consulta, en un bloque de código nuevo, para investigar los estudios de secuenciación con lecturas cortas en el ratón (*Mus musculus*, taxid 10090) durante el mes de mayo del presenta año. Redacta un pequeño resumen con tus conclusiones. Deberías intentar incluir información sobre: los tipos de tejidos o líneas celulares más secuenciados, los tipos de estudio (*library_source*), el balance entre ratones macho y hembra secuenciados, así como cualquier otro aspecto que te llame la atención. Si prefieres realizar el análisis en [la web de ENA](https://www.ebi.ac.uk/ena/browser/home), o bien en una hoja de cálculo después de descargar los resultados de la búsqueda, también podrás obtener la nota máxima en este apartado. No deberías demorarte más de 20 minutos.\n"
   ]
  },
  {
   "cell_type": "markdown",
   "metadata": {},
   "source": [
    "## Problema 3\n",
    "\n",
    "Para poder realizar este problema, necesitas haber instalado los programas de blast del NCBI. Para hacerlo, solo tienes que ejecutar el código siguiente. Puede tardar unos segundos."
   ]
  },
  {
   "cell_type": "code",
   "execution_count": null,
   "metadata": {},
   "outputs": [],
   "source": [
    "system2(command = './preparar_ambiente.sh', wait = TRUE)"
   ]
  },
  {
   "cell_type": "markdown",
   "metadata": {},
   "source": [
    "Dentro de la carptea `data` tienes un archivo fasta llamado `a.fa`. El objetivo es realizar algunas búsquedas de blast con esta *query*. Puedes basarte en los comandos del bloque siguiente, siempre que puedas corregir los errores antes.\n",
    "\n",
    "1. Busca la proteína **a** en la base de datos *swissprot* (instalada en la carpeta actual) mediante **blastp**, utilizando un umbral de valor E de 0.001. Anota el número de resultados obtenidos.\n",
    "3. Conociendo la definición del \"valor E\" y a la vista de los resultados de la búsqueda, ¿sabrías decir cuántos de los resultados obtenidos esperas que sean casuales (es decir, que igualmente podrían haberse producido al azar)?\n",
    "4. Realiza ahora una búsqueda con **psiblast**, en la misma base de datos y con la misma proteína de partida. ¿Cuántas iteraciones necesitas para alcanzar la convergencia si usas un umbral de inclusión (`-inclusion_ethresh`) de 0.001?\n",
    "5. Compara el número de resultados obtenidos con **psiblast** con el número de resultados obtenidos antes con **blastp** y explica a qué se debe la diferencia."
   ]
  },
  {
   "cell_type": "code",
   "execution_count": 42,
   "metadata": {},
   "outputs": [
    {
     "data": {
      "text/html": [],
      "text/latex": [],
      "text/markdown": [],
      "text/plain": [
       "character(0)"
      ]
     },
     "metadata": {},
     "output_type": "display_data"
    }
   ],
   "source": [
    "system2(command = 'blastn',\n",
    "        args = c('-db', 'swissprot',\n",
    "                 '-query', 'data/b.fa',\n",
    "                 '-out', 'psi1.txt',\n",
    "                 '-outfmt', '\"7 sseqid ssciname scomname sblastname evalue\"',\n",
    "                 '-evalue', '0.005',\n",
    "                 '-inclusion_ethresh', '0.002',\n",
    "                 '-num_iterations', '0'),\n",
    "       stdout=TRUE)"
   ]
  },
  {
   "cell_type": "code",
   "execution_count": null,
   "metadata": {},
   "outputs": [],
   "source": []
  }
 ],
 "metadata": {
  "kernelspec": {
   "display_name": "R",
   "language": "R",
   "name": "ir"
  },
  "language_info": {
   "codemirror_mode": "r",
   "file_extension": ".r",
   "mimetype": "text/x-r-source",
   "name": "R",
   "pygments_lexer": "r",
   "version": "3.6.3"
  }
 },
 "nbformat": 4,
 "nbformat_minor": 5
}
