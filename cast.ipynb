{
 "cells": [
  {
   "cell_type": "markdown",
   "id": "sacred-islam",
   "metadata": {},
   "source": [
    "## Instrucciones\n",
    "\n",
    "Edita, elabora y ejecuta los comandos y responde a las preguntas en este mismo documento. Pero **¡atención!** debes descargarlo (en formato `.ipynb`) para poder entregarlo a través del aula virtual. Es recomendable descargar de cuando en cuando versiones parciales, para evitar la pérdida eventual de todo el trabajo si la sesión se desconecta."
   ]
  },
  {
   "cell_type": "markdown",
   "id": "buried-pierce",
   "metadata": {},
   "source": [
    "## Problema 1\n",
    "En la carpeta `data` hay cuatro ficheros en formato FASTQ, con secuencias de cuatro muestras diferentes de cerbero común (*Canis cerberus*): `data/BRZ026.fq`, `data/BRZ031.fq`, `data/LAN048.fq` y `data/LAN098.fq`. El objetivo es: primero realizar un análisis de la calidad de las secuencias y después mapearlas sobre el genoma de referencia, `data/cerber.fa`. Pero los bloques de código siguientes están desordenados y contienen errores. Corrige los errores y ejecútalos en el orden correcto para poder responder las preguntas siguietes."
   ]
  },
  {
   "cell_type": "code",
   "execution_count": null,
   "id": "fbd3b9b4",
   "metadata": {},
   "outputs": [],
   "source": [
    "# BLOQUE METBREWER\n",
    "\n",
    "library('MetBrewer')\n",
    "system2(command = 'cut', args = c('-f', '4,5', 'BRZ026.sam'), stdout = 'MapQualBRZ026.txt')\n",
    "system3(command = 'cut', args = c('-f', '4,5', 'BRZ031.sam'), stdout = 'MapQualBRZ031.txt')\n",
    "system2(command = 'cut', args = c('-f', '4,5', 'LAN048.sam'), stdout = 'MapQualLAN048.txt')\n",
    "system2(command = 'cut', args =  ('-f', '4,5', 'LAN098.sam'), stdout = 'MapQualLAN098.txt')\n",
    "\n",
    "mapq.BRZ026 <- read.table('MapQualBRZ026.txt', col.names = c('pos','mapq'))\n",
    "mapq.BRZ031 <- read.table('MapQualBRZ031.txt', col.names = c('pos','mapq'))\n",
    "mapq.LAN048 <- read.table('MapQualLAN048.txt', col.names = c('pos','mapq'))\n",
    "mapq.LAN098 <- read.table('MapQualLAN098.txt', col.names = c('pos','mapq'))\n",
    "\n",
    "colors = met.brewer(name = 'Egypt', n = 4)\n",
    "plot(density(mapq.BRZ031$mapq),  lwd = 2, col = colors[1], xlab = 'Calidad del mapeo', ylab = 'Densidad', main = '')\n",
    "lines(density(mapq.BRZ026$mapq), lwd = 2, col = colors[2])\n",
    "lines(density(mapq.LAN048$mapq), lwd = 2, col = colors[3])\n",
    "lines(density(mapq.LAN098$mapq), lwd = 2, col = colors[4])\n",
    "legend(10, y=0.08, legend = c('BRZ031','BRZ026','LAN048','LAN098'), col = colors, lwd = 2)"
   ]
  },
  {
   "cell_type": "code",
   "execution_count": null,
   "id": "cardiovascular-surprise",
   "metadata": {},
   "outputs": [],
   "source": [
    "# BLOQUE BOWTIE\n",
    "BRZ026.out <- bowtie2(bt2Index = 'index/cerber',\n",
    "                     samOutput = 'BRZ026.sam',\n",
    "                          seq1 = 'data/BRZ026.fq',\n",
    "                     overwrite = TRUE,\n",
    "                     '--no-unal', '--no-head')\n",
    "BRZ026.out\n",
    "\n",
    "BRZ031.out <- bowtie2(bt2Index = 'index/cerber',\n",
    "                     samOutput = 'BRZ031.sam',\n",
    "                          seq1 = 'data/BRZ031.fa',\n",
    "                     overwrite = TRUE,\n",
    "                     '--no-unal', '--no-head')\n",
    "BRZ031.out\n",
    "\n",
    "LAN048.out < bowtie2(bt2Index = 'index/cerber',\n",
    "                     samOutput = 'LAN048.sam',\n",
    "                          seq1 = 'data/LAN048.fq',\n",
    "                     overwrite = TRUE,\n",
    "                     '--no-unal', '--no-head')\n",
    "LAN048.out\n",
    "\n",
    "LAN098.out <- bowtie2(bt2Index = 'index/cerber',\n",
    "                     samOutput = 'LAN098.sam',\n",
    "                          seq1 = 'data/LAN098.fq',\n",
    "                     overwrite = TRUE,\n",
    "                     '--no-unal', '--no-head')\n",
    "LAN098.out"
   ]
  },
  {
   "cell_type": "code",
   "execution_count": null,
   "id": "ec17be44",
   "metadata": {},
   "outputs": [],
   "source": [
    "# BLOQUE GGPLOT2\n",
    "\n",
    "library('ggplot2')\n",
    "suppressMessages(library('ShortRead'))\n",
    "ResumenCalidad <- qa('data', type = 'fastq', pattern = '*.fasta')\n",
    "ResumenCalidad\n",
    "head(ResumenCalidad[['baseCalls']])\n",
    "report(ResumenCalidad, dest = 'ResumenCalidad.html')\n",
    "\n",
    "ggplot(data = ResumenCalidad[['readQualityScore']],\n",
    "       mapping = aes(x = quality, y = density)) +\n",
    "   geom_line() +\n",
    "   facet_wrap(~lane)"
   ]
  },
  {
   "cell_type": "code",
   "execution_count": null,
   "id": "096e45e6",
   "metadata": {},
   "outputs": [],
   "source": [
    "# BLOQUE RBOWTIE2\n",
    "\n",
    "library('Rbowtie2')\n",
    "dir.create('index')\n",
    "bowtie2_build(references = 'data/cerber.fq',\n",
    "              bt2Index   = 'indice/cerbero',\n",
    "              '--quiet', overwrite = TRUE)"
   ]
  },
  {
   "cell_type": "markdown",
   "id": "varying-namibia",
   "metadata": {},
   "source": [
    "Contesta las preguntas siguientes:\n",
    "\n",
    "### 1.1. Indica en qué orden crees que deben ejecutarse los pasos (puedes ordenar los bloques moviéndolos arriba y abajo).\n",
    "### 1.2. ¿Cuántas lecturas cortas hay en cada archivo? (Si necesitas ejecutar algo para averiguarlo, añade un bloque de código).\n",
    "### 1.3. ¿Crees que las lecturas cortas son emparejadas (*paired ends*) o no? ¿Cómo lo has averiguado?\n",
    "### 1.4. ¿Qué longitudes tienen las lecturas?\n",
    "### 1.5. Se sospecha que una de las tres muestras no pertenece a la misma especie que las otras. ¿Cuál dirías que és y por qué?"
   ]
  },
  {
   "cell_type": "code",
   "execution_count": null,
   "id": "14b20eea",
   "metadata": {},
   "outputs": [],
   "source": []
  },
  {
   "cell_type": "markdown",
   "id": "aggressive-infection",
   "metadata": {},
   "source": [
    "## Problema 2\n",
    "\n",
    "En el archivo `data/reads.fasta` están las 1000 primeras lecturas cortas de la muestra LAN048, en formato FASTA. A continuación, buscamos esas 1000 lecturas mediante BLAST en el genoma, para replicar parte del trabajo ejecutado en el ejercicio anterior, ahora con BLAST. Corrige los errores donde los haya y contesta las preguntas siguientes."
   ]
  },
  {
   "cell_type": "code",
   "execution_count": 1,
   "id": "246b0ca0",
   "metadata": {},
   "outputs": [],
   "source": [
    "# BLOQUE MAKEBLASTDB\n",
    "system2(command = 'makeblastdb',\n",
    "        args = c('-in', 'data/cerber.fa',\n",
    "                 '-input_type', 'fasta',\n",
    "                 'dbtype', 'nucl'))"
   ]
  },
  {
   "cell_type": "code",
   "execution_count": 2,
   "id": "f2778190",
   "metadata": {},
   "outputs": [],
   "source": [
    "# BLOQUE BLAST\n",
    "system2(command = 'blastp',\n",
    "        args = c('-db', 'data/cerber.fa',\n",
    "                 '-query', 'data/reads.fasta',\n",
    "                 '-evalue', '1.0E-20',\n",
    "                 '-outfmt', '7',\n",
    "                 '-out', 'blastout.txt'))"
   ]
  },
  {
   "cell_type": "code",
   "execution_count": null,
   "id": "7de5f150",
   "metadata": {},
   "outputs": [],
   "source": [
    "# BLOQUE MULTIPLICIDAD\n",
    "blastout <- read.table('blastout.txt',\n",
    "                       col.names = c('query','subject','identity','length','mismatches',\n",
    "                                     'gaps','qstart','qend','sstart','send','evalue',\n",
    "                                     'bitscore'))\n",
    "NumHits <- table(blastout$query)\n",
    "Multiplicidad <- table(NumHits)\n",
    "Multiplicidad"
   ]
  },
  {
   "cell_type": "markdown",
   "id": "d2334c6e",
   "metadata": {},
   "source": [
    "### 2.1 ¿Para qué sirve el primero de los dos bloques de código anteriores (el etiquetado como \"BLOQUE MAKEBLASTDB\")?\n",
    "\n",
    "### 2.2 Si las mismas secuencias *query* las hubiéramos buscado en una base de datos más grande, con los genomas de muchas otras especies, ¿cómo hubieran sido los valores E de los resultados, iguales, mayores o menores? Razona la respuesta.\n",
    "\n",
    "### 2.3 ¿Por qué motivo crees que algunas lecturas cortas encuentran más de una posición en el genoma con una identidad del 100%?\n",
    "\n",
    "### 2.4 ¿Qué crees que representa el objeto `Multiplicidad`? (Puedes comprobar cuánto suman sus términos, o cómo cambian los números cuando reduces el parámetro `-evalue` en el *BLOQUE BLAST\").\n"
   ]
  },
  {
   "cell_type": "code",
   "execution_count": null,
   "id": "ba72b80c",
   "metadata": {},
   "outputs": [],
   "source": []
  },
  {
   "cell_type": "markdown",
   "id": "swedish-diagram",
   "metadata": {},
   "source": [
    "## Problema 3\n",
    "\n",
    "El archivo `data/Kphage.fasta` contiene las 101 proteínas codificadas en el genoma del fago vB_KpnP_P184 de *Klebsiella*. El bloque de código siguiente debería crear una tabla con los resultados de buscar qué dominios proteicos de Pfam-A aparecen en esas 101 proteínas. Pero para que funcione hace falta un paso previo."
   ]
  },
  {
   "cell_type": "code",
   "execution_count": null,
   "id": "sharing-trouble",
   "metadata": {},
   "outputs": [],
   "source": [
    "# PASO PREVIO\n"
   ]
  },
  {
   "cell_type": "code",
   "execution_count": null,
   "id": "65aead03",
   "metadata": {},
   "outputs": [],
   "source": [
    "# BLOQUE HMMSCAN\n",
    "## BLOQUE HMMSCAN\n",
    "system2(command = 'hmmscan',\n",
    "        args = c('--tblout', 'Kphage.tblout',\n",
    "                 '--domtblout', 'Kphage.domtblout',\n",
    "                 '-E', '0.00001',\n",
    "                 '--domE', '0.00001',\n",
    "                 '--noali', '-o', 'Kphage.out',\n",
    "                 'data/Pfam.hmm', 'data/Kphage.fasta'))"
   ]
  },
  {
   "cell_type": "markdown",
   "id": "b2e3e116",
   "metadata": {},
   "source": [
    "### 3.1 Revisa los apuntes de la práctica del tema 5, sobre HMMER y Pfam, o bien consulta la ayuda del paquete HMMER en la carpeta de documentos si hace falta para completar el paso previo necesario para que funcione `hmmscan`.\n",
    "\n",
    "### 3.2 ¿Qué diferencias encuentras entre los archivos de salida `Kphage.tblout` y `Kphage.domtblout`?\n",
    "\n",
    "### 3.3 Realiza una segunda búsqueda de dominios proteicos ahora entre las 100 proteínas codificadas por otro fago (éste, de *Mycobacterium*), guardadas en formato FASTA en el archivo `data/Mphage.fasta`. (Esta búsqueda se puede realizar tanto con `hmmscan` como con `hmmsearch`. El programa `hmmsearch` funcionaría inclusio si no hubieras resuelto la pregunta 3.1\n",
    "\n",
    "### El bloque siguiente leerá la tabla de resultados `Kphage.domtblout` en un *data frame*. Repite la operación para los resultados de la pregunta 3.3 y trata de averiguar qué dominios tienen en común los proteomas de los dos fagos."
   ]
  },
  {
   "cell_type": "code",
   "execution_count": 1,
   "id": "5fcc7f29",
   "metadata": {},
   "outputs": [],
   "source": [
    "library(rhmmer)\n",
    "KphageDom <- read_domtblout('Kphage.domtblout')\n",
    "names(KphageDom)\n",
    "KphageDom\n",
    "unique(KphageDom$domain_name)"
   ]
  },
  {
   "cell_type": "code",
   "execution_count": null,
   "id": "eeaa9a38",
   "metadata": {},
   "outputs": [],
   "source": []
  }
 ],
 "metadata": {
  "kernelspec": {
   "display_name": "R",
   "language": "R",
   "name": "ir"
  },
  "language_info": {
   "codemirror_mode": "r",
   "file_extension": ".r",
   "mimetype": "text/x-r-source",
   "name": "R",
   "pygments_lexer": "r",
   "version": "4.2.0"
  }
 },
 "nbformat": 4,
 "nbformat_minor": 5
}
