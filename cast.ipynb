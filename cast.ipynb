{
 "cells": [
  {
   "cell_type": "markdown",
   "id": "sacred-islam",
   "metadata": {},
   "source": [
    "## Instrucciones\n",
    "\n",
    "Edita, elabora y ejecuta los comandos y responde a las preguntas en este mismo documento. Pero **¡atención!** debes descargarlo (en formato `.ipynb`) para poder entregarlo a través del aula virtual. Y si dejas que la sesión expire, perderás el trabajo hecho.\n",
    "\n",
    "Antes de nada, ejecuta el bloque siguiente para que acaben de intalarse los programas que necesitas."
   ]
  },
  {
   "cell_type": "code",
   "execution_count": null,
   "id": "developing-excuse",
   "metadata": {},
   "outputs": [],
   "source": [
    "system2(command = './preparar_ambiente.sh', wait = TRUE)"
   ]
  },
  {
   "cell_type": "markdown",
   "id": "buried-pierce",
   "metadata": {},
   "source": [
    "## Problema 1\n",
    "Se ha secuenciado un genoma que parece codificar el fragmento siguiente:\n",
    "\n",
    "`IGCGIQPHASTAEKKGVRQYRSDDDIVANGEEENAAVLDHIESKQTWSYRRFLNGEVQRN\n",
    "AYRLIPHNRGVEYFVRTTQVRGNRDSEDLKTPPYTVLIVGFSAWTVIHSKQAREGDAIAS\n",
    "YLFSRPQQQFNITMNPGATSTSSINSLELADKPDTVYNTVARKALTRMKRLSSQTPKLLG\n",
    "VTRDEDQFDKLWLPFAQQDKAYEISTLLQAMDYVDSNARNGPDVLYGQAIVIDVSGVDLS\n",
    "IEMSSFRVLTQSKVDYLSFAELDAHNTCPAERFFAEVYRNLNAQQSVAKSEVKTSRSATQ\n",
    "IKQKVASMQQEQLTQLSKSRQQVIPPLIEGTEIERV`\n",
    "\n",
    "1. Crea un archivo en formato fasta con esta secuencia.\n",
    "2. Corrige los comandos del bloque 1 para que ejecuten un *PSIBLAST* sobre la base de datos Swissprot utilizando como *query* el archivo fasta que has creado. (Si no hubieras conseguido crear el archivo fasta con éxito, usa el archivo \"Proteina2.fasta\" como *query*).\n",
    "3. ¿Crees que la proteína podría proceder de un hongo? Indica qué te lleva a pensarlo."
   ]
  },
  {
   "cell_type": "code",
   "execution_count": null,
   "id": "cardiovascular-surprise",
   "metadata": {},
   "outputs": [],
   "source": [
    "## Bloque 1. Intento de PSIBLAST.\n",
    "\n",
    "system2(command = 'pepsiblast',\n",
    "        args = c('-db', 'Swissprot',\n",
    "                 '-query', 'unknown.fa',\n",
    "                 '-out', 'psi.txt',\n",
    "                 '-outfmt', '\"7 qacc sacc pident qstart qend sstart send evalue\"',\n",
    "                 '-evalue', '0.001',\n",
    "                 '-inclusion_ethresh', '0.001',\n",
    "                 '-num_iterations', '0'),\n",
    "       stdout = TRUE,\n",
    "       wait = TRUE)"
   ]
  },
  {
   "cell_type": "markdown",
   "id": "aggressive-infection",
   "metadata": {},
   "source": [
    "## Problema 2\n",
    "\n",
    "El archivo `homolegs.fasta` contiene las secuencias homólogas a la proteïna anterior encontradas mediante *PSIBLAST*. No están alineadas. Corrige los comandos siguientes para alinear las secuencias de ese archivo y contesta las preguntas siguientes."
   ]
  },
  {
   "cell_type": "code",
   "execution_count": null,
   "id": "early-cover",
   "metadata": {},
   "outputs": [],
   "source": [
    "## Bloque 2. Alineamiento\n",
    "\n",
    "suppressMessages(library('DECIPHER'))\n",
    "Secuencias <- readDNAStringSet('homolegs.fasta')\n",
    "Alineadas  <- AlignSeqs(Secuencias)\n",
    "BrowseSeqs(Alineadas, htmlFile = 'Alineamiento.html', openURL = FALSE)"
   ]
  },
  {
   "cell_type": "markdown",
   "id": "removed-juvenile",
   "metadata": {},
   "source": [
    "1. ¿Qué clase de objeto es `Secuencias`, en el bloque anterior?\n",
    "2. ¿Qué opinión te merece el alineamiento, y por qué?\n",
    "3. Por defecto, `AlignSeqs()` usa una penalización por apertura de *gaps* de entre -18 y -16, y una penalización por alargamiento del *gap* de entre -2 y -1. Comprueba y describe el efecto de invertir esos valores. Es decir, el efecto de asignar el valor -2 (por ejemplo) a la penalización por apertura de *gaps* y el valor de -16 a la penalización por elongamiento del gap."
   ]
  },
  {
   "cell_type": "markdown",
   "id": "swedish-diagram",
   "metadata": {},
   "source": [
    "## Problema 3\n",
    "\n",
    "El archivo `results.txt` contiene los resultados de una consulta realizada con el paquete `hmmer`. Concretamente, se ha comprobado qué dominios de la base de datos Pfam se encuentran presente en cada una de las proteínas del *Mycobacterium virus Che8*. El código siguiente te permite cargar la tabla de resultados en la sesión de R. Aunque para contestar algunas de las preguntas siguientes basta con abrir el archivo `results.txt` con el editor de texto, o con el comando `less -S results.txt` desde la terminal Bash."
   ]
  },
  {
   "cell_type": "code",
   "execution_count": null,
   "id": "restricted-cradle",
   "metadata": {},
   "outputs": [],
   "source": [
    "## Bloque 3. Resultados de hmmer\n",
    "\n",
    "library(rhmmer)\n",
    "resultados <- read_domtblout('results.txt')\n",
    "resultados\n",
    "names(resultados)"
   ]
  },
  {
   "cell_type": "markdown",
   "id": "black-handle",
   "metadata": {},
   "source": [
    "1. El paquete `hmmer` incluye varios programas: *hmmbuild*, *hmmsearch*, *hmmfetch*...  ¿Cuál de esos programas crees que ha sido utilizado para generar los resultados guardados en el archivo `results.txt`?\n",
    "2. A simple vista, parece que las dos primeras líneas de la tabla de resultados son idénticas. ¿Por qué se muestra dos veces que el dominio *Phage_integrase* està presente en la proteína Q855G4?\n",
    "3. El número de proteínas en las que se han buscado dominios conocidos es 112. Usando el comando `length(unique(resultados$query_name))` vemos que sólo se han encontrado dominios proteicos conocidos en 57 de esas proteínas. ¿Sabrías decir cuántos dominios diferentes se han encontrado en el proteoma del *Mycobacterium virus Che8*?\n",
    "4. Los resultados de la búsqueda de dominios incluyen hasta tres valores E diferentes: uno para la secuencia completa de la proteína donde se ha encontrado algún dominio, y dos valores E para el dominio encontrado. Están descritos en las páginas 47 y 48 del documento **HMMER_Userguide.pdf**. ¿Te parecen fiables todos los resultados? ¿Sabrías decir cuántos de los dominios encontrados tiene un valor E condicional (`domain_cevalue`) menor de 1?"
   ]
  },
  {
   "cell_type": "code",
   "execution_count": null,
   "id": "sharing-trouble",
   "metadata": {},
   "outputs": [],
   "source": []
  }
 ],
 "metadata": {
  "kernelspec": {
   "display_name": "R",
   "language": "R",
   "name": "ir"
  },
  "language_info": {
   "codemirror_mode": "r",
   "file_extension": ".r",
   "mimetype": "text/x-r-source",
   "name": "R",
   "pygments_lexer": "r",
   "version": "3.6.3"
  }
 },
 "nbformat": 4,
 "nbformat_minor": 5
}
