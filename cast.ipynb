{
 "cells": [
  {
   "cell_type": "markdown",
   "id": "sacred-islam",
   "metadata": {},
   "source": [
    "## Instrucciones\n",
    "\n",
    "Edita, elabora y ejecuta los comandos y responde a las preguntas en este mismo documento. Pero **¡atención!** debes descargarlo (en formato `.ipynb`) para poder entregarlo a través del aula virtual."
   ]
  },
  {
   "cell_type": "markdown",
   "id": "buried-pierce",
   "metadata": {},
   "source": [
    "## Problema 1\n",
    "En la carpeta `data` hay cuatro ficheros en formato FASTQ, con secuencias de cuatro muestras diferentes de cerbero común (*Canis cerberus*). El objetivo es: primero realizar un análisis de la calidad de las secuencias y después mapearlas sobre el genoma de referencia, `data/cerber.fa`. Pero los bloques de código siguientes están desordenados y contienen errores. Corrige los errores y ejecútalos en el orden correcto para poder responder las preguntas siguietes."
   ]
  },
  {
   "cell_type": "code",
   "execution_count": null,
   "id": "fbd3b9b4",
   "metadata": {},
   "outputs": [],
   "source": [
    "# BLOQUE METBREWER\n",
    "\n",
    "library('MetBrewer')\n",
    "system2(command = 'cut', args = c('-f', '4,5', 'BRZ026.sam'), stdout = 'MapQualBRZ026.txt')\n",
    "system2(command = 'cut', args = c('-f', '4,5', 'BRZ031.sam'), stdout = 'MapQualBRZ031.txt')\n",
    "system2(command = 'cut', args = c('-f', '4,5', 'LAN048.sam'), stdout = 'MapQualLAN048.txt')\n",
    "system2(command = 'cut', args = c('-f', '4,5', 'LAN098.sam'), stdout = 'MapQualLAN098.txt')\n",
    "mapq.BRZ026 <- read.table('MapQualBRZ026.txt', col.names = c('pos','mapq'))\n",
    "mapq.BRZ031 <- read.table('MapQualBRZ031.txt', col.names = c('pos','mapq'))\n",
    "mapq.LAN048 <- read.table('MapQualLAN048.txt', col.names = c('pos','mapq')\n",
    "mapq.LAN098 <- read.table('MapQualLAN098.txt' col.names = c('pos','mapq'))\n",
    "colors = met.brewer(name = 'Egypt', n = 4)\n",
    "plot(density(mapq.BRZ031$mapq),  lwd = 2, col = colors[1], xlab = 'Calidad del mapeo', ylab = 'Densidad', main = '')\n",
    "lines(density(mapq.BRZ026$mapq), lwd = 2, col = colors[2])\n",
    "lines(density(mapq.LAN048$mapq), lwd = 2, col = colors[3])\n",
    "lines(density(mapq.LAN098$mapq), lwd = 2, col = colors[4])\n",
    "legend(10, y=0.08, legend = c('BRZ031','BRZ026','LAN048','LAN098'), col = colors, lwd = 2)"
   ]
  },
  {
   "cell_type": "code",
   "execution_count": null,
   "id": "cardiovascular-surprise",
   "metadata": {},
   "outputs": [],
   "source": [
    "# BLOQUE BOWTIE\n",
    "BRZ026.out <- bowtie2(bt2Index = 'index/cerber',\n",
    "                     samOutput = 'BRZ026.sam',\n",
    "                          seq1 = 'data/BRZ026.fq'\n",
    "                     overwrite = TRUE,\n",
    "                     '--no-unal', '--no-head')\n",
    "BRZ026.out\n",
    "\n",
    "BRZ031.out <- bowtie2(bt2Index = 'index/cerber',\n",
    "                     samOutput = 'BRZ031.sam',\n",
    "                          seq1 = 'data/BRZ031.fa',\n",
    "                     overwrite = TRUE,\n",
    "                     '--no-unal', '--no-head')\n",
    "BRZ031.out\n",
    "\n",
    "LAN048.out <  bowtie2(bt2Index = 'index/cerber',\n",
    "                     samOutput = 'LAN048.sam',\n",
    "                          seq1 = 'data/LAN048.fq',\n",
    "                     overwrite = TRUE,\n",
    "                     '--no-unal', '--no-head')\n",
    "LAN048.out\n",
    "\n",
    "LAN098.out <- bowtie2(bt2Index = 'index/cerber',\n",
    "                     samOutput = 'LAN098.sam',\n",
    "                          seq1 = 'data/LAN098.fq',\n",
    "                     overwrite = TRUE,\n",
    "                     '--no-unal', '--no-head')\n",
    "LAN098.out"
   ]
  },
  {
   "cell_type": "code",
   "execution_count": null,
   "id": "naked-holder",
   "metadata": {},
   "outputs": [],
   "source": [
    "# BLOQUE GGPLOT2\n",
    "\n",
    "library(ggplot2)\n",
    "suppressMessages(library('ShortRead'))\n",
    "ResumenCalidad <- qa('data', type = 'fastq', pattern = '*.fa')\n",
    "ResumenCalidad\n",
    "head(ResumenCalidad[['baseCalls']])\n",
    "report(ResumenCalidad, dest = 'ResumenCalidad.html')\n",
    "ggplot(data = ResumenCalidad[['readQualityScore']],\n",
    "       mapping = aes(x = quality, y = density)) +\n",
    "   geom_line() +\n",
    "   facet_wrap(~lane)"
   ]
  },
  {
   "cell_type": "code",
   "execution_count": null,
   "id": "096e45e6",
   "metadata": {},
   "outputs": [],
   "source": [
    "# BLOQUE RBOWTIE2\n",
    "\n",
    "library('Rbowtie2')\n",
    "dir.create('index')\n",
    "bowtie2_build(references = 'data/cerber.fq',\n",
    "              bt2Index   = 'index/cerbero',\n",
    "              '--quiet', overwrite = TRUE)"
   ]
  },
  {
   "cell_type": "markdown",
   "id": "varying-namibia",
   "metadata": {},
   "source": [
    "Contesta las preguntas siguientes:\n",
    "\n",
    "1. Indica en qué orden crees que deben ejecutarse los pasos.\n",
    "2. ¿Cuántas lecturas cortas hay en cada archivo?\n",
    "3. ¿Crees que las lecturas cortas son emparejadas (*paired ends*) o no?\n",
    "4. ¿Qué longitudes tienen las lecturas?\n",
    "2. Se sospecha que una de las tres muestras no pertenece a la misma especie que las otras. ¿Cuál dirías que és?"
   ]
  },
  {
   "cell_type": "markdown",
   "id": "aggressive-infection",
   "metadata": {},
   "source": [
    "## Problema 2\n",
    "\n"
   ]
  },
  {
   "cell_type": "code",
   "execution_count": null,
   "id": "early-cover",
   "metadata": {},
   "outputs": [],
   "source": [
    "library(curl)\n",
    "portal   <- 'https://www.ebi.ac.uk/ena/portal/api/'\n",
    "endpoint <- 'search?'\n",
    "result   <- 'result=read_run'\n",
    "query    <- paste0('&query=',\n",
    "                   URLencode('tax_tree(2) AND first_public>=2021-05-01',\n",
    "                             reserved=TRUE))\n",
    "fields   <- '&fields=scientific_name,read_count,base_count,library_source,center_name,country'\n",
    "limit    <- '&limit=0'\n",
    "\n",
    "URL <- paste0(portal, endpoint, result, query, fields, limit, sep='', collapse='')\n",
    "curl_download(URL, destfile = 'descarga1.tsv')\n",
    "resultados <- read.table('descarga1.tsv', header = TRUE, quote = \"\\\"\",\n",
    "                         sep = '\\t', na.string = '', stringsAsFactors = FALSE)\n",
    "head(resultados)\n",
    "dim(resultados)\n",
    "sum(resultados$read_count, na.rm = TRUE)\n",
    "sum(resultados$base_count, na.rm = TRUE)\n",
    "resultados$genero <- sapply(resultados$scientific_name, function(x) strsplit(x, ' ')[[1]][1])\n",
    "head(resultados)\n",
    "sort(table(resultados$genero), decreasing = TRUE)\n",
    "resultados$country <- sapply(resultados$country, function(x) strsplit(x, ':')[[1]][1])\n",
    "sort(table(resultados$country), decreasing = TRUE)\n",
    "sort(table(resultados[resultados$country == 'Russia', 'scientific_name']), decreasing = TRUE)\n",
    "sort(table(resultados[resultados$country == 'Ireland', 'center_name']), decreasing = TRUE)"
   ]
  },
  {
   "cell_type": "markdown",
   "id": "removed-juvenile",
   "metadata": {},
   "source": [
    "#### Preguntas sobre el análisis de ejemplo anterior\n",
    "\n",
    "1. ¿Cuál es el número de registros de experimentos de secuenciación con lecturas cortas publicados en ENA durante este mes de mayo?\n",
    "\n",
    "2. ¿Cuál es el género de Bacterias más secuenciado mediante lecturas cortas en el mes de mayo del presente año?\n",
    "\n",
    "3. ¿Qué especies de bacterias se han dedicado a secuenciar en Rusia durante el mes de mayo? ¿Y en España?\n",
    "\n",
    "4. ¿Cuántos centros de investigación españoles diferentes han enviado secuencias cortas de Bacterias a la base de datos ENA durante este mes? ¿E irlandeses? \n",
    "\n",
    "\n",
    "####  Problema\n",
    "Elabora ahora tu propia consulta, en un bloque de código nuevo, para investigar los estudios de secuenciación con lecturas cortas en el ratón (*Mus musculus*, taxid 10090) durante el mes de mayo del presenta año. Redacta un pequeño resumen con tus conclusiones. Deberías intentar incluir información sobre: los tipos de tejidos o líneas celulares más secuenciados, los tipos de estudio (*library_source*), el balance entre ratones macho y hembra secuenciados, así como cualquier otro aspecto que te llame la atención. Si prefieres realizar el análisis en [la web de ENA](https://www.ebi.ac.uk/ena/browser/home), o bien en una hoja de cálculo después de descargar los resultados de la búsqueda, también podrás obtener la nota máxima en este apartado. No deberías demorarte más de 20 minutos.\n"
   ]
  },
  {
   "cell_type": "markdown",
   "id": "swedish-diagram",
   "metadata": {},
   "source": [
    "## Problema 3\n",
    "\n",
    "Para poder realizar este problema, necesitas haber instalado los programas de blast del NCBI. Para hacerlo, solo tienes que ejecutar el código siguiente. Puede tardar unos segundos."
   ]
  },
  {
   "cell_type": "code",
   "execution_count": null,
   "id": "restricted-cradle",
   "metadata": {},
   "outputs": [],
   "source": [
    "system2(command = './preparar_ambiente.sh', wait = TRUE)"
   ]
  },
  {
   "cell_type": "markdown",
   "id": "black-handle",
   "metadata": {},
   "source": [
    "Dentro de la carptea `data` tienes un archivo fasta llamado `a.fa`. El objetivo es realizar algunas búsquedas de blast con esta *query*. Puedes basarte en los comandos del bloque siguiente, siempre que puedas corregir los errores antes.\n",
    "\n",
    "1. Busca la proteína **a** en la base de datos *swissprot* (instalada en la carpeta actual) mediante **blastp**, utilizando un umbral de valor E de 0.001. Anota el número de resultados obtenidos.\n",
    "3. Conociendo la definición del \"valor E\" y a la vista de los resultados de la búsqueda, ¿sabrías decir cuántos de los resultados obtenidos esperas que sean casuales (es decir, que igualmente podrían haberse producido al azar)?\n",
    "4. Realiza ahora una búsqueda con **psiblast**, en la misma base de datos y con la misma proteína de partida. ¿Cuántas iteraciones necesitas para alcanzar la convergencia si usas un umbral de inclusión (`-inclusion_ethresh`) de 0.001?\n",
    "5. Compara el número de resultados obtenidos con **psiblast** con el número de resultados obtenidos antes con **blastp** y explica a qué se debe la diferencia."
   ]
  },
  {
   "cell_type": "code",
   "execution_count": null,
   "id": "featured-comparative",
   "metadata": {},
   "outputs": [],
   "source": [
    "system2(command = 'blastn',\n",
    "        args = c('-db', 'swissprot',\n",
    "                 '-query', 'data/b.fa',\n",
    "                 '-out', 'psi1.txt',\n",
    "                 '-outfmt', '\"7 qaccver saccver pident length qstart qend sstart send\n",
    "   evalue ssciname sblastname\"',\n",
    "                 '-evalue', '0.005',\n",
    "                 '-inclusion_ethresh', '0.002',\n",
    "                 '-num_iterations', '0'),\n",
    "       stdout=TRUE)"
   ]
  },
  {
   "cell_type": "code",
   "execution_count": null,
   "id": "satisfied-gardening",
   "metadata": {},
   "outputs": [],
   "source": []
  }
 ],
 "metadata": {
  "kernelspec": {
   "display_name": "R",
   "language": "R",
   "name": "ir"
  },
  "language_info": {
   "codemirror_mode": "r",
   "file_extension": ".r",
   "mimetype": "text/x-r-source",
   "name": "R",
   "pygments_lexer": "r",
   "version": "4.2.0"
  }
 },
 "nbformat": 4,
 "nbformat_minor": 5
}
