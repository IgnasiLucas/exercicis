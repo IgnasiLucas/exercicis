{
 "cells": [
  {
   "cell_type": "markdown",
   "id": "sacred-islam",
   "metadata": {},
   "source": [
    "## Instrucciones\n",
    "\n",
    "Edita, elabora y ejecuta los comandos y responde a las preguntas en este mismo documento. Pero **¡atención!** debes descargarlo (en formato `.ipynb`) para poder entregarlo a través del aula virtual. Antes de empezar ejecuta el bloque siguiente, que descomprime algún archivo. "
   ]
  },
  {
   "cell_type": "code",
   "execution_count": null,
   "id": "d9c4d25c",
   "metadata": {},
   "outputs": [],
   "source": [
    "system2(command = 'gunzip',\n",
    "        args = 'data/cerber.fa.gz')"
   ]
  },
  {
   "cell_type": "markdown",
   "id": "buried-pierce",
   "metadata": {},
   "source": [
    "## Problema 1\n",
    "En la carpeta `data` hay cuatro ficheros en formato FASTQ, con secuencias de cuatro muestras diferentes de cerbero común (*Canis cerberus*). El objetivo es: primero realizar un análisis de la calidad de las secuencias y después mapearlas sobre el genoma de referencia, `data/cerber.fa`. Pero los bloques de código siguientes están desordenados y contienen errores. Corrige los errores y ejecútalos en el orden correcto para poder responder las preguntas siguietes."
   ]
  },
  {
   "cell_type": "code",
   "execution_count": null,
   "id": "fbd3b9b4",
   "metadata": {},
   "outputs": [],
   "source": [
    "# BLOQUE METBREWER\n",
    "\n",
    "library('MetBrewer')\n",
    "system2(command = 'cut', args = c('-f', '4,5', 'BRZ026.sam'), stdout = 'MapQualBRZ026.txt')\n",
    "system2(command = 'cut', args = c('-f', '4,5', 'BRZ031.sam'), stdout = 'MapQualBRZ031.txt')\n",
    "system2(command = 'cut', args = c('-f', '4,5', 'LAN048.sam'), stdout = 'MapQualLAN048.txt')\n",
    "system2(command = 'cut', args = c('-f', '4,5', 'LAN098.sam'), stdout = 'MapQualLAN098.txt')\n",
    "mapq.BRZ026 <- read.table('MapQualBRZ026.txt', col.names = c('pos','mapq'))\n",
    "mapq.BRZ031 <- read.table('MapQualBRZ031.txt', col.names = c('pos','mapq')\n",
    "mapq.LAN048 <- read.table('MapQualLAN048.txt', col.names = c('pos','mapq'))\n",
    "mapq.LAN098 <- read.table('MapQualLAN098.txt' col.names = c('pos','mapq'))\n",
    "colors = met.brewer(name = 'Egypt', n = 4)\n",
    "plot(density(mapq.BRZ031$mapq),  lwd = 2, col = colors[1], xlab = 'Calidad del mapeo', ylab = 'Densidad', main = '')\n",
    "lines(density(mapq.BRZ026$mapq), lwd = 2, col = colors[2])\n",
    "lines(density(mapq.LAN048$mapq), lwd = 2, col = colors[3])\n",
    "lines(density(mapq.LAN098$mapq), lwd = 2, col = colors[4])\n",
    "legend(10, y=0.08, legend = c('BRZ031','BRZ026','LAN048','LAN098'), col = colors, lwd = 2)"
   ]
  },
  {
   "cell_type": "code",
   "execution_count": null,
   "id": "cardiovascular-surprise",
   "metadata": {},
   "outputs": [],
   "source": [
    "# BLOQUE BOWTIE\n",
    "BRZ026.out <- bowtie2(bt2Index = 'index/cerber',\n",
    "                     samOutput = 'BRZ026.sam',\n",
    "                          seq1 = 'data/BRZ026.fq',\n",
    "                     overwrite = TRUE,\n",
    "                     '--no-unal', '--no-head')\n",
    "BRZ026.out\n",
    "\n",
    "BRZ031.out <- bowtie2(bt2Index = 'index/cerber',\n",
    "                     samOutput = 'BRZ031.sam',\n",
    "                          seq1 = 'data/BRZ031.fa',\n",
    "                     overwrite = TRUE,\n",
    "                     '--no-unal', '--no-head')\n",
    "BRZ031.out\n",
    "\n",
    "LAN048.out < bowtie2(bt2Index = 'index/cerber',\n",
    "                     samOutput = 'LAN048.sam',\n",
    "                          seq1 = 'data/LAN048.fq',\n",
    "                     overwrite = TRUE,\n",
    "                     '--no-unal', '--no-head')\n",
    "LAN048.out\n",
    "\n",
    "LAN098.out <- bowtie2(bt2Index = 'index/cerber',\n",
    "                     samOutput = 'LAN098.sam',\n",
    "                          seq1 = 'data/LAN098.fq',\n",
    "                     overwrite = TRUE,\n",
    "                     '--no-unal', '--no-head')\n",
    "LAN098.out"
   ]
  },
  {
   "cell_type": "code",
   "execution_count": null,
   "id": "ec17be44",
   "metadata": {},
   "outputs": [],
   "source": [
    "# BLOQUE GGPLOT2\n",
    "\n",
    "library(ggplot2)\n",
    "suppressMessages(library('ShortRead'))\n",
    "ResumenCalidad <- qa('data', type = 'fastq', pattern = '*.fasta')\n",
    "ResumenCalidad\n",
    "head(ResumenCalidad[['baseCalls']])\n",
    "report(ResumenCalidad, dest = 'ResumenCalidad.html')\n",
    "ggplot(data = ResumenCalidad[['readQualityScore']],\n",
    "       mapping = aes(x = quality, y = density)) +\n",
    "   geom_line() +\n",
    "   facet_wrap(~lane)"
   ]
  },
  {
   "cell_type": "code",
   "execution_count": null,
   "id": "096e45e6",
   "metadata": {},
   "outputs": [],
   "source": [
    "# BLOQUE RBOWTIE2\n",
    "\n",
    "library('Rbowtie2')\n",
    "dir.create('index')\n",
    "bowtie2_build(references = 'data/cerber.fq',\n",
    "              bt2Index   = 'indice/cerbero',\n",
    "              '--quiet', overwrite = TRUE)"
   ]
  },
  {
   "cell_type": "markdown",
   "id": "varying-namibia",
   "metadata": {},
   "source": [
    "Contesta las preguntas siguientes:\n",
    "\n",
    "1. Indica en qué orden crees que deben ejecutarse los pasos (puedes ordenar los bloques moviéndolos arriba y abajo).\n",
    "2. ¿Cuántas lecturas cortas hay en cada archivo?\n",
    "3. ¿Crees que las lecturas cortas son emparejadas (*paired ends*) o no?\n",
    "4. ¿Qué longitudes tienen las lecturas?\n",
    "2. Se sospecha que una de las tres muestras no pertenece a la misma especie que las otras. ¿Cuál dirías que és y por qué?"
   ]
  },
  {
   "cell_type": "markdown",
   "id": "aggressive-infection",
   "metadata": {},
   "source": [
    "## Problema 2\n",
    "\n",
    "\n"
   ]
  },
  {
   "cell_type": "markdown",
   "id": "swedish-diagram",
   "metadata": {},
   "source": [
    "## Problema 3\n",
    "\n",
    "El archivo `data/Kphage.fasta` contiene las 101 proteínas codificadas en el genoma del fago vB_KpnP_P184 de *Klebsiella*. El bloque de código siguiente debería crear una tabla con los resultados de buscar qué dominios proteicos de Pfam-A aparecen en esas 101 proteínas. Pero para que funcione hace falta un paso previo.\n",
    "\n"
   ]
  },
  {
   "cell_type": "code",
   "execution_count": null,
   "id": "sharing-trouble",
   "metadata": {},
   "outputs": [],
   "source": []
  }
 ],
 "metadata": {
  "kernelspec": {
   "display_name": "R",
   "language": "R",
   "name": "ir"
  },
  "language_info": {
   "codemirror_mode": "r",
   "file_extension": ".r",
   "mimetype": "text/x-r-source",
   "name": "R",
   "pygments_lexer": "r",
   "version": "4.2.0"
  }
 },
 "nbformat": 4,
 "nbformat_minor": 5
}
